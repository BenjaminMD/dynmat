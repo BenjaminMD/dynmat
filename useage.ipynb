{
 "cells": [
  {
   "cell_type": "markdown",
   "id": "f30c6b6c-0ca8-4efc-823a-d26dd7c57fd3",
   "metadata": {},
   "source": [
    "# Load structure and create supercell"
   ]
  },
  {
   "cell_type": "code",
   "execution_count": 113,
   "id": "48396e1e-266a-4a9f-9379-b640a7731c2d",
   "metadata": {
    "scrolled": true
   },
   "outputs": [],
   "source": [
    "from dynmat import load_unit_cell_from_toml, fractional_to_cartesian_transform\n",
    "from itertools import combinations\n",
    "\n",
    "dimensions = (10, 5, 5)\n",
    "u = load_unit_cell_from_toml(\"NaCl.toml\").supercell(dimensions)\n",
    "\n",
    "\n",
    "pairs = np.array(list(combinations(u.atom_positions, r=2)))\n",
    "\n",
    "\n"
   ]
  },
  {
   "cell_type": "code",
   "execution_count": 89,
   "id": "5a422195-48bf-420d-8897-62958768ec24",
   "metadata": {},
   "outputs": [
    {
     "data": {
      "text/plain": [
       "(array([440]),)"
      ]
     },
     "execution_count": 89,
     "metadata": {},
     "output_type": "execute_result"
    }
   ],
   "source": [
    "np.where(np.all(u.atom_positions == [0.8, 0.8, 0. ], axis=1))"
   ]
  },
  {
   "cell_type": "code",
   "execution_count": 87,
   "id": "ea29a12b-d805-4bce-abd6-e2b922683931",
   "metadata": {},
   "outputs": [
    {
     "data": {
      "text/plain": [
       "array([0.75, 0.5 , 0.5 ])"
      ]
     },
     "execution_count": 87,
     "metadata": {},
     "output_type": "execute_result"
    }
   ],
   "source": [
    "u.atom_positions[375]"
   ]
  },
  {
   "cell_type": "code",
   "execution_count": 112,
   "id": "863ebc38-6e9b-4f5c-8306-4806d8f4c8fe",
   "metadata": {},
   "outputs": [
    {
     "data": {
      "text/plain": [
       "array([1.        , 1.        , 1.        , ..., 8.38152731, 8.38152731,\n",
       "       8.38152731])"
      ]
     },
     "execution_count": 112,
     "metadata": {},
     "output_type": "execute_result"
    }
   ],
   "source": [
    "dd = periodic_distance(pairs[:,0],pairs[:,1], T)\n",
    "np.sort(dd)"
   ]
  },
  {
   "cell_type": "markdown",
   "id": "ab4a8d23-d98b-4bea-9a5e-4b739bdfbf2c",
   "metadata": {},
   "source": [
    "# create transformation matrix fractional to cartesian"
   ]
  },
  {
   "cell_type": "code",
   "execution_count": 88,
   "id": "64473165-6ebd-4790-89d0-a4d30d0f813f",
   "metadata": {},
   "outputs": [
    {
     "data": {
      "text/plain": [
       "array([[0.8, 0.8, 0. ],\n",
       "       [0.8, 0.8, 0. ]])"
      ]
     },
     "execution_count": 88,
     "metadata": {},
     "output_type": "execute_result"
    }
   ],
   "source": [
    "pairs[:,109131]"
   ]
  },
  {
   "cell_type": "code",
   "execution_count": 55,
   "id": "c7c80bf8-15af-44cf-a84c-b1cc130334e6",
   "metadata": {},
   "outputs": [
    {
     "data": {
      "text/plain": [
       "500"
      ]
     },
     "execution_count": 55,
     "metadata": {},
     "output_type": "execute_result"
    }
   ],
   "source": [
    "len(u.atomic_basis)"
   ]
  },
  {
   "cell_type": "code",
   "execution_count": 52,
   "id": "c4488485-12d2-47d9-a1d8-d5cd202e4e0b",
   "metadata": {},
   "outputs": [
    {
     "data": {
      "text/plain": [
       "124750"
      ]
     },
     "execution_count": 52,
     "metadata": {},
     "output_type": "execute_result"
    }
   ],
   "source": [
    "len(dd)"
   ]
  },
  {
   "cell_type": "code",
   "execution_count": 34,
   "id": "13dd0b9e-6867-49ac-b088-99af0af0ace2",
   "metadata": {},
   "outputs": [
    {
     "data": {
      "text/plain": [
       "array([[1.000000e+01, 6.123234e-16, 6.123234e-16],\n",
       "       [0.000000e+00, 1.000000e+01, 6.123234e-16],\n",
       "       [0.000000e+00, 0.000000e+00, 1.000000e+01]])"
      ]
     },
     "execution_count": 34,
     "metadata": {},
     "output_type": "execute_result"
    }
   ],
   "source": [
    "lat, ang = (10, 10, 10), (u.alpha, u.beta, u.gamma)\n",
    "T = fractional_to_cartesian_transform(lat, ang)\n",
    "\n",
    "T"
   ]
  },
  {
   "cell_type": "code",
   "execution_count": 17,
   "id": "12f9583f-cda8-4cd8-993c-d25f418faf42",
   "metadata": {},
   "outputs": [
    {
     "data": {
      "text/plain": [
       "0.7071067811865476"
      ]
     },
     "execution_count": 17,
     "metadata": {},
     "output_type": "execute_result"
    }
   ],
   "source": [
    "np.sqrt(0.5)"
   ]
  },
  {
   "cell_type": "code",
   "execution_count": 15,
   "id": "480a0a99-639f-40b8-9b16-059b78bfc554",
   "metadata": {},
   "outputs": [
    {
     "data": {
      "text/plain": [
       "0.7071067811865476"
      ]
     },
     "execution_count": 15,
     "metadata": {},
     "output_type": "execute_result"
    }
   ],
   "source": [
    "0.5**(1/2)"
   ]
  },
  {
   "cell_type": "code",
   "execution_count": 14,
   "id": "fd49084c-824c-4b0f-8169-36505ecb5b18",
   "metadata": {},
   "outputs": [
    {
     "data": {
      "text/plain": [
       "array([7.07106781])"
      ]
     },
     "execution_count": 14,
     "metadata": {},
     "output_type": "execute_result"
    }
   ],
   "source": [
    "periodic_distance(\n",
    "    [0.5, 0.5, 0.0],\n",
    "    [0.0, 0.0, 0.0],\n",
    "    T\n",
    ")"
   ]
  },
  {
   "cell_type": "code",
   "execution_count": 25,
   "id": "0cf732fc-72bc-4ccf-92bb-624d4bc0dd05",
   "metadata": {},
   "outputs": [
    {
     "data": {
      "text/plain": [
       "(array([['a', 'a', 'a', 'b', 'b', 'c'],\n",
       "        ['b', 'c', 'd', 'c', 'd', 'd']], dtype='<U1'),\n",
       " array(['a', 'a', 'a', 'b', 'b', 'c'], dtype='<U1'),\n",
       " array(['b', 'c', 'd', 'c', 'd', 'd'], dtype='<U1'))"
      ]
     },
     "execution_count": 25,
     "metadata": {},
     "output_type": "execute_result"
    }
   ],
   "source": [
    "\n"
   ]
  },
  {
   "cell_type": "code",
   "execution_count": 33,
   "id": "bc79ee48-7ad0-423e-8975-80ce7514e586",
   "metadata": {},
   "outputs": [],
   "source": [
    "import numpy as np\n",
    "\n",
    "\n",
    "def periodic_distance(p1, p2, T=np.eye(3)):\n",
    "    \"\"\"\n",
    "    Computes the periodic distance between two points in a unit cube,\n",
    "    using a transformation matrix to convert fractional to Cartesian coordinates.\n",
    "\n",
    "    Parameters:\n",
    "        p1 (array-like): Fractional coordinates of the first point (e.g., [x1, y1, z1]).\n",
    "        p2 (array-like): Fractional coordinates of the second point (e.g., [x2, y2, z2]).\n",
    "        T (array-like): 3x3 transformation matrix to convert fractional to Cartesian coordinates.\n",
    "\n",
    "    Returns:\n",
    "        float: The Cartesian periodic distance between the points.\n",
    "    \"\"\"\n",
    "    p1 = np.array(p1) % 1\n",
    "    p2 = np.array(p2) % 1\n",
    "\n",
    "    p1 = p1.reshape(-1, 3)\n",
    "    p2 = p2.reshape(-1, 3)\n",
    "\n",
    "    # Compute delta in fractional space\n",
    "    delta = np.abs(p2 - p1)\n",
    "    delta = np.minimum(delta, 1 - delta)  # Wrap around the boundary\n",
    "\n",
    "    # Transform fractional deltas to Cartesian\n",
    "    delta_cartesian = np.dot(delta, T.T)\n",
    "\n",
    "    # Compute Cartesian distance\n",
    "    distance = np.sqrt(np.sum(delta_cartesian**2, axis=1))\n",
    "\n",
    "    return distance"
   ]
  },
  {
   "cell_type": "code",
   "execution_count": 4,
   "id": "912657e4-e1de-4b26-afba-f8fa5b2cc2bf",
   "metadata": {},
   "outputs": [],
   "source": [
    "def calculate_force_constant(mass1: float, \n",
    "                           mass2: float, \n",
    "                           reference_frequency: float = 1.0) -> float:\n",
    "    \"\"\"\n",
    "    Calculate the force constant based on reduced mass and a reference frequency.\n",
    "    \n",
    "    Parameters:\n",
    "        mass1: Mass of first atom in atomic mass units (u)\n",
    "        mass2: Mass of second atom in atomic mass units (u)\n",
    "        reference_frequency: Reference vibrational frequency in arbitrary units (default: 1.0)\n",
    "        \n",
    "    Returns:\n",
    "        float: Force constant k = μω², where μ is reduced mass and ω is angular frequency\n",
    "    \"\"\"\n",
    "    # Calculate reduced mass\n",
    "    reduced_mass = (mass1 * mass2) / (mass1 + mass2)\n",
    "    \n",
    "    # Convert reference frequency to angular frequency (ω = 2πν)\n",
    "    angular_frequency = 2 * np.pi * reference_frequency\n",
    "    \n",
    "    # Calculate force constant k = μω²\n",
    "    force_constant = reduced_mass * angular_frequency**2\n",
    "    \n",
    "    return force_constant\n",
    "\n",
    "def get_atomic_mass(atom_label: str) -> float:\n",
    "    \"\"\"\n",
    "    Get the atomic mass of an element in atomic mass units (u).\n",
    "    \n",
    "    Parameters:\n",
    "        atom_label: Chemical symbol of the element (e.g., 'H', 'C', 'O')\n",
    "        \n",
    "    Returns:\n",
    "        float: Atomic mass in u\n",
    "    \"\"\"\n",
    "    return element(atom_label).mass\n",
    "\n",
    "def get_harmonic_force(reference_pos: NDArray,\n",
    "                      reference_labels: NDArray,\n",
    "                      atom1_pos: NDArray,\n",
    "                      atom2_pos: NDArray,\n",
    "                      displacement: NDArray,\n",
    "                      atom1_label: str,\n",
    "                      atom2_label: str,\n",
    "                      distance_matrix: NDArray,\n",
    "                      reference_frequency: float = 1.0) -> Tuple[NDArray, float]:\n",
    "    \"\"\"\n",
    "    Calculate the harmonic force between two atoms after displacement using mass-dependent force constant.\n",
    "    \n",
    "    Parameters:\n",
    "        reference_pos: Reference positions of all atoms (N, 3)\n",
    "        reference_labels: Atomic labels for all positions (N,)\n",
    "        atom1_pos: Position of first atom (3,)\n",
    "        atom2_pos: Position of second atom (3,)\n",
    "        displacement: Displacement vector to apply to atom2 (3,)\n",
    "        atom1_label: Chemical symbol of first atom\n",
    "        atom2_label: Chemical symbol of second atom\n",
    "        distance_matrix: Matrix of equilibrium distances between atoms\n",
    "        reference_frequency: Reference frequency for force constant calculation (default: 1.0)\n",
    "        \n",
    "    Returns:\n",
    "        Tuple containing:\n",
    "        - NDArray: Force vector (3,) acting on atom2 due to displacement\n",
    "        - float: Force constant used in calculation\n",
    "    \"\"\"\n",
    "    # Convert inputs to numpy arrays and ensure correct shapes\n",
    "    atom1_pos = np.asarray(atom1_pos, dtype=np.float64).reshape(3)\n",
    "    atom2_pos = np.asarray(atom2_pos, dtype=np.float64).reshape(3)\n",
    "    displacement = np.asarray(displacement, dtype=np.float64).reshape(3)\n",
    "    \n",
    "    # Find atom indices in the reference positions\n",
    "    atom1_mask = np.all(np.isclose(reference_pos, atom1_pos), axis=1)\n",
    "    atom2_mask = np.all(np.isclose(reference_pos, atom2_pos), axis=1)\n",
    "    \n",
    "    atom1_idx = np.where(atom1_mask)[0]\n",
    "    atom2_idx = np.where(atom2_mask)[0]\n",
    "    \n",
    "    if len(atom1_idx) != 1 or len(atom2_idx) != 1:\n",
    "        raise ValueError(f\"Could not uniquely identify atoms. Found {len(atom1_idx)} matches for atom1 and {len(atom2_idx)} for atom2\")\n",
    "    \n",
    "    # Get equilibrium distance from the distance matrix\n",
    "    equilibrium_distance = distance_matrix[atom1_idx[0], atom2_idx[0]]\n",
    "    \n",
    "    # Calculate new distance after displacement\n",
    "    displaced_pos = atom2_pos + displacement\n",
    "    direction = calculate_periodic_direction(atom1_pos, displaced_pos)\n",
    "    current_distance = periodic_distance(atom1_pos, displaced_pos)\n",
    "    \n",
    "    # Get atomic masses and calculate force constant\n",
    "    mass1 = get_atomic_mass(atom1_label)\n",
    "    mass2 = get_atomic_mass(atom2_label)\n",
    "    force_constant = calculate_force_constant(mass1, mass2, reference_frequency)\n",
    "    \n",
    "    # Calculate force (F = -k(r - r_0) * direction)\n",
    "    force_magnitude = force_constant * (equilibrium_distance - current_distance)\n",
    "    force_vector = force_magnitude * direction\n",
    "    \n",
    "    return force_vector, force_constant"
   ]
  },
  {
   "cell_type": "code",
   "execution_count": 16,
   "id": "8c017c9f-8228-49d6-819c-6490bcca56f3",
   "metadata": {},
   "outputs": [
    {
     "ename": "AttributeError",
     "evalue": "'UnitCell' object has no attribute 'lattice_lengths'",
     "output_type": "error",
     "traceback": [
      "\u001b[0;31m---------------------------------------------------------------------------\u001b[0m",
      "\u001b[0;31mAttributeError\u001b[0m                            Traceback (most recent call last)",
      "Cell \u001b[0;32mIn[16], line 1\u001b[0m\n\u001b[0;32m----> 1\u001b[0m u\u001b[38;5;241m.\u001b[39mlattice_lengths\n",
      "\u001b[0;31mAttributeError\u001b[0m: 'UnitCell' object has no attribute 'lattice_lengths'"
     ]
    }
   ],
   "source": [
    "u.lattice_lengths"
   ]
  },
  {
   "cell_type": "code",
   "execution_count": 73,
   "id": "dd399f91-715c-4298-b0ae-3c2a221b012b",
   "metadata": {},
   "outputs": [
    {
     "data": {
      "text/plain": [
       "array([0.        , 0.50124844, 0.05      , ..., 0.05      , 0.50124844,\n",
       "       0.        ])"
      ]
     },
     "execution_count": 73,
     "metadata": {},
     "output_type": "execute_result"
    }
   ],
   "source": [
    "from dynmat import UnitCell, fractional_to_cartesian_transform, periodic_distance_mat, is_nearest_neighbor\n",
    "    \n",
    "u = UnitCell(\n",
    "    lattice_lengths=(1, 1, 1),\n",
    "    lattice_angles=(90, 90, 90),\n",
    "    atomic_basis=[\n",
    "        (\"Na\", 0.0, 0.0, 0.0),\n",
    "        (\"Cl\", 0.5, 0.5, 0.5)\n",
    "    ]\n",
    ").make_supercell((5, 5, 0))\n",
    "\n",
    "# Get transformation matrix and distances\n",
    "lat, ang = (u.a, u.b, u.c), (u.alpha, u.beta, u.gamma)\n",
    "T = fractional_to_cartesian_transform(lat, ang)\n",
    "positions = np.array(u.atomic_basis)[:,1:].astype(\"float64\")\n",
    "labels = np.array(u.atomic_basis)[:,1:].astype(\"float64\")\n",
    "distances = periodic_distance_mat(positions)\n",
    "\n"
   ]
  },
  {
   "cell_type": "code",
   "execution_count": 9,
   "id": "692a80bb-59d8-4cc6-a73f-9599fc9148d9",
   "metadata": {},
   "outputs": [
    {
     "data": {
      "text/plain": [
       "150"
      ]
     },
     "execution_count": 9,
     "metadata": {},
     "output_type": "execute_result"
    }
   ],
   "source": [
    "len(u.atomic_basis)*3"
   ]
  },
  {
   "cell_type": "code",
   "execution_count": 5,
   "id": "21626843-b30e-496f-9ff9-08fd73d04a94",
   "metadata": {},
   "outputs": [
    {
     "name": "stdout",
     "output_type": "stream",
     "text": [
      "0.4330127018922193\n",
      "0.4330127018922193\n",
      "0.4330127018922193\n",
      "\n",
      "Forces between Na0 and Cl1:\n",
      "[[-51.81235571 -37.00882551 -37.00882551]\n",
      " [-37.00882551 -51.81235571 -37.00882551]\n",
      " [-37.00882551 -37.00882551 -51.81235571]]\n",
      "0.5\n",
      "0.5\n",
      "0.5\n",
      "\n",
      "Forces between Na0 and Na2:\n",
      "[[ -1.43159267  -0.          -7.15796334]\n",
      " [ -0.          -1.43159267  -7.15796334]\n",
      " [  0.           0.         -73.72000412]]\n",
      "0.4330127018922193\n",
      "0.4330127018922193\n",
      "0.4330127018922193\n",
      "\n",
      "Forces between Na0 and Cl3:\n",
      "[[-51.81235571 -37.00882551  37.00882551]\n",
      " [-37.00882551 -51.81235571  37.00882551]\n",
      " [ 36.39701352  36.39701352 -21.83820811]]\n",
      "0.5\n",
      "0.5\n",
      "0.5\n",
      "\n",
      "Forces between Na0 and Na4:\n",
      "[[ -1.43159267  -7.15796334  -0.        ]\n",
      " [  0.         -73.72000412   0.        ]\n",
      " [ -0.          -7.15796334  -1.43159267]]\n",
      "0.4330127018922193\n",
      "0.4330127018922193\n",
      "0.4330127018922193\n",
      "\n",
      "Forces between Na0 and Cl5:\n",
      "[[-51.81235571  37.00882551 -37.00882551]\n",
      " [ 36.39701352 -21.83820811  36.39701352]\n",
      " [-37.00882551  37.00882551 -51.81235571]]\n",
      "0.4330127018922193\n",
      "0.4330127018922193\n",
      "0.4330127018922193\n",
      "\n",
      "Forces between Na0 and Cl7:\n",
      "[[-51.81235571  37.00882551  37.00882551]\n",
      " [ 36.39701352 -21.83820811 -36.39701352]\n",
      " [ 36.39701352 -36.39701352 -21.83820811]]\n",
      "0.5\n",
      "0.5\n",
      "0.5\n",
      "\n",
      "Forces between Na0 and Na8:\n",
      "[[-73.72000412   0.           0.        ]\n",
      " [ -7.15796334  -1.43159267  -0.        ]\n",
      " [ -7.15796334  -0.          -1.43159267]]\n",
      "0.4330127018922193\n",
      "0.4330127018922193\n",
      "0.4330127018922193\n",
      "\n",
      "Forces between Na0 and Cl9:\n",
      "[[-21.83820811  36.39701352  36.39701352]\n",
      " [ 37.00882551 -51.81235571 -37.00882551]\n",
      " [ 37.00882551 -37.00882551 -51.81235571]]\n",
      "0.4330127018922193\n",
      "0.4330127018922193\n",
      "0.4330127018922193\n",
      "\n",
      "Forces between Na0 and Cl11:\n",
      "[[-21.83820811  36.39701352 -36.39701352]\n",
      " [ 37.00882551 -51.81235571  37.00882551]\n",
      " [-36.39701352  36.39701352 -21.83820811]]\n",
      "0.4330127018922193\n",
      "0.4330127018922193\n",
      "0.4330127018922193\n",
      "\n",
      "Forces between Na0 and Cl13:\n",
      "[[-21.83820811 -36.39701352  36.39701352]\n",
      " [-36.39701352 -21.83820811  36.39701352]\n",
      " [ 37.00882551  37.00882551 -51.81235571]]\n",
      "0.4330127018922193\n",
      "0.4330127018922193\n",
      "0.4330127018922193\n",
      "\n",
      "Forces between Na0 and Cl15:\n",
      "[[-21.83820811 -36.39701352 -36.39701352]\n",
      " [-36.39701352 -21.83820811 -36.39701352]\n",
      " [-36.39701352 -36.39701352 -21.83820811]]\n",
      "0.4330127018922193\n",
      "0.4330127018922193\n",
      "0.4330127018922193\n",
      "\n",
      "Forces between Cl1 and Na2:\n",
      "[[-21.83820811 -36.39701352  36.39701352]\n",
      " [-36.39701352 -21.83820811  36.39701352]\n",
      " [ 37.00882551  37.00882551 -51.81235571]]\n",
      "0.5\n",
      "0.5\n",
      "0.5\n",
      "\n",
      "Forces between Cl1 and Cl3:\n",
      "[[  -2.20750193   -0.          -11.03750966]\n",
      " [  -0.           -2.20750193  -11.03750966]\n",
      " [   0.            0.         -113.67552733]]\n",
      "0.4330127018922193\n",
      "0.4330127018922193\n",
      "0.4330127018922193\n",
      "\n",
      "Forces between Cl1 and Na4:\n",
      "[[-21.83820811  36.39701352 -36.39701352]\n",
      " [ 37.00882551 -51.81235571  37.00882551]\n",
      " [-36.39701352  36.39701352 -21.83820811]]\n",
      "0.5\n",
      "0.5\n",
      "0.5\n",
      "\n",
      "Forces between Cl1 and Cl5:\n",
      "[[  -2.20750193  -11.03750966   -0.        ]\n",
      " [   0.         -113.67552733    0.        ]\n",
      " [  -0.          -11.03750966   -2.20750193]]\n",
      "0.4330127018922193\n",
      "0.4330127018922193\n",
      "0.4330127018922193\n",
      "\n",
      "Forces between Cl1 and Na6:\n",
      "[[-21.83820811  36.39701352  36.39701352]\n",
      " [ 37.00882551 -51.81235571 -37.00882551]\n",
      " [ 37.00882551 -37.00882551 -51.81235571]]\n",
      "0.4330127018922193\n",
      "0.4330127018922193\n",
      "0.4330127018922193\n",
      "\n",
      "Forces between Cl1 and Na8:\n",
      "[[-51.81235571  37.00882551  37.00882551]\n",
      " [ 36.39701352 -21.83820811 -36.39701352]\n",
      " [ 36.39701352 -36.39701352 -21.83820811]]\n",
      "0.5\n",
      "0.5\n",
      "0.5\n",
      "\n",
      "Forces between Cl1 and Cl9:\n",
      "[[-113.67552733    0.            0.        ]\n",
      " [ -11.03750966   -2.20750193   -0.        ]\n",
      " [ -11.03750966   -0.           -2.20750193]]\n",
      "0.4330127018922193\n",
      "0.4330127018922193\n",
      "0.4330127018922193\n",
      "\n",
      "Forces between Cl1 and Na10:\n",
      "[[-51.81235571  37.00882551 -37.00882551]\n",
      " [ 36.39701352 -21.83820811  36.39701352]\n",
      " [-37.00882551  37.00882551 -51.81235571]]\n",
      "0.4330127018922193\n",
      "0.4330127018922193\n",
      "0.4330127018922193\n",
      "\n",
      "Forces between Cl1 and Na12:\n",
      "[[-51.81235571 -37.00882551  37.00882551]\n",
      " [-37.00882551 -51.81235571  37.00882551]\n",
      " [ 36.39701352  36.39701352 -21.83820811]]\n",
      "0.4330127018922193\n",
      "0.4330127018922193\n",
      "0.4330127018922193\n",
      "\n",
      "Forces between Cl1 and Na14:\n",
      "[[-51.81235571 -37.00882551 -37.00882551]\n",
      " [-37.00882551 -51.81235571 -37.00882551]\n",
      " [-37.00882551 -37.00882551 -51.81235571]]\n",
      "0.4330127018922193\n",
      "0.4330127018922193\n",
      "0.4330127018922193\n",
      "\n",
      "Forces between Na2 and Cl3:\n",
      "[[-51.81235571 -37.00882551 -37.00882551]\n",
      " [-37.00882551 -51.81235571 -37.00882551]\n",
      " [-37.00882551 -37.00882551 -51.81235571]]\n",
      "0.4330127018922193\n",
      "0.4330127018922193\n",
      "0.4330127018922193\n",
      "\n",
      "Forces between Na2 and Cl5:\n",
      "[[-51.81235571  37.00882551  37.00882551]\n",
      " [ 36.39701352 -21.83820811 -36.39701352]\n",
      " [ 36.39701352 -36.39701352 -21.83820811]]\n",
      "0.5\n",
      "0.5\n",
      "0.5\n",
      "\n",
      "Forces between Na2 and Na6:\n",
      "[[ -1.43159267  -7.15796334  -0.        ]\n",
      " [  0.         -73.72000412   0.        ]\n",
      " [ -0.          -7.15796334  -1.43159267]]\n",
      "0.4330127018922193\n",
      "0.4330127018922193\n",
      "0.4330127018922193\n",
      "\n",
      "Forces between Na2 and Cl7:\n",
      "[[-51.81235571  37.00882551 -37.00882551]\n",
      " [ 36.39701352 -21.83820811  36.39701352]\n",
      " [-37.00882551  37.00882551 -51.81235571]]\n",
      "0.4330127018922193\n",
      "0.4330127018922193\n",
      "0.4330127018922193\n",
      "\n",
      "Forces between Na2 and Cl9:\n",
      "[[-21.83820811  36.39701352 -36.39701352]\n",
      " [ 37.00882551 -51.81235571  37.00882551]\n",
      " [-36.39701352  36.39701352 -21.83820811]]\n",
      "0.5\n",
      "0.5\n",
      "0.5\n",
      "\n",
      "Forces between Na2 and Na10:\n",
      "[[-73.72000412   0.           0.        ]\n",
      " [ -7.15796334  -1.43159267  -0.        ]\n",
      " [ -7.15796334  -0.          -1.43159267]]\n",
      "0.4330127018922193\n",
      "0.4330127018922193\n",
      "0.4330127018922193\n",
      "\n",
      "Forces between Na2 and Cl11:\n",
      "[[-21.83820811  36.39701352  36.39701352]\n",
      " [ 37.00882551 -51.81235571 -37.00882551]\n",
      " [ 37.00882551 -37.00882551 -51.81235571]]\n",
      "0.4330127018922193\n",
      "0.4330127018922193\n",
      "0.4330127018922193\n",
      "\n",
      "Forces between Na2 and Cl13:\n",
      "[[-21.83820811 -36.39701352 -36.39701352]\n",
      " [-36.39701352 -21.83820811 -36.39701352]\n",
      " [-36.39701352 -36.39701352 -21.83820811]]\n",
      "0.4330127018922193\n",
      "0.4330127018922193\n",
      "0.4330127018922193\n",
      "\n",
      "Forces between Na2 and Cl15:\n",
      "[[-21.83820811 -36.39701352  36.39701352]\n",
      " [-36.39701352 -21.83820811  36.39701352]\n",
      " [ 37.00882551  37.00882551 -51.81235571]]\n",
      "0.4330127018922193\n",
      "0.4330127018922193\n",
      "0.4330127018922193\n",
      "\n",
      "Forces between Cl3 and Na4:\n",
      "[[-21.83820811  36.39701352  36.39701352]\n",
      " [ 37.00882551 -51.81235571 -37.00882551]\n",
      " [ 37.00882551 -37.00882551 -51.81235571]]\n",
      "0.4330127018922193\n",
      "0.4330127018922193\n",
      "0.4330127018922193\n",
      "\n",
      "Forces between Cl3 and Na6:\n",
      "[[-21.83820811  36.39701352 -36.39701352]\n",
      " [ 37.00882551 -51.81235571  37.00882551]\n",
      " [-36.39701352  36.39701352 -21.83820811]]\n",
      "0.5\n",
      "0.5\n",
      "0.5\n",
      "\n",
      "Forces between Cl3 and Cl7:\n",
      "[[  -2.20750193  -11.03750966   -0.        ]\n",
      " [   0.         -113.67552733    0.        ]\n",
      " [  -0.          -11.03750966   -2.20750193]]\n",
      "0.4330127018922193\n",
      "0.4330127018922193\n",
      "0.4330127018922193\n",
      "\n",
      "Forces between Cl3 and Na8:\n",
      "[[-51.81235571  37.00882551 -37.00882551]\n",
      " [ 36.39701352 -21.83820811  36.39701352]\n",
      " [-37.00882551  37.00882551 -51.81235571]]\n",
      "0.4330127018922193\n",
      "0.4330127018922193\n",
      "0.4330127018922193\n",
      "\n",
      "Forces between Cl3 and Na10:\n",
      "[[-51.81235571  37.00882551  37.00882551]\n",
      " [ 36.39701352 -21.83820811 -36.39701352]\n",
      " [ 36.39701352 -36.39701352 -21.83820811]]\n",
      "0.5\n",
      "0.5\n",
      "0.5\n",
      "\n",
      "Forces between Cl3 and Cl11:\n",
      "[[-113.67552733    0.            0.        ]\n",
      " [ -11.03750966   -2.20750193   -0.        ]\n",
      " [ -11.03750966   -0.           -2.20750193]]\n",
      "0.4330127018922193\n",
      "0.4330127018922193\n",
      "0.4330127018922193\n",
      "\n",
      "Forces between Cl3 and Na12:\n",
      "[[-51.81235571 -37.00882551 -37.00882551]\n",
      " [-37.00882551 -51.81235571 -37.00882551]\n",
      " [-37.00882551 -37.00882551 -51.81235571]]\n",
      "0.4330127018922193\n",
      "0.4330127018922193\n",
      "0.4330127018922193\n",
      "\n",
      "Forces between Cl3 and Na14:\n",
      "[[-51.81235571 -37.00882551  37.00882551]\n",
      " [-37.00882551 -51.81235571  37.00882551]\n",
      " [ 36.39701352  36.39701352 -21.83820811]]\n",
      "0.4330127018922193\n",
      "0.4330127018922193\n",
      "0.4330127018922193\n",
      "\n",
      "Forces between Na4 and Cl5:\n",
      "[[-51.81235571 -37.00882551 -37.00882551]\n",
      " [-37.00882551 -51.81235571 -37.00882551]\n",
      " [-37.00882551 -37.00882551 -51.81235571]]\n",
      "0.5\n",
      "0.5\n",
      "0.5\n",
      "\n",
      "Forces between Na4 and Na6:\n",
      "[[ -1.43159267  -0.          -7.15796334]\n",
      " [ -0.          -1.43159267  -7.15796334]\n",
      " [  0.           0.         -73.72000412]]\n",
      "0.4330127018922193\n",
      "0.4330127018922193\n",
      "0.4330127018922193\n",
      "\n",
      "Forces between Na4 and Cl7:\n",
      "[[-51.81235571 -37.00882551  37.00882551]\n",
      " [-37.00882551 -51.81235571  37.00882551]\n",
      " [ 36.39701352  36.39701352 -21.83820811]]\n",
      "0.4330127018922193\n",
      "0.4330127018922193\n",
      "0.4330127018922193\n",
      "\n",
      "Forces between Na4 and Cl9:\n",
      "[[-21.83820811 -36.39701352  36.39701352]\n",
      " [-36.39701352 -21.83820811  36.39701352]\n",
      " [ 37.00882551  37.00882551 -51.81235571]]\n",
      "0.4330127018922193\n",
      "0.4330127018922193\n",
      "0.4330127018922193\n",
      "\n",
      "Forces between Na4 and Cl11:\n",
      "[[-21.83820811 -36.39701352 -36.39701352]\n",
      " [-36.39701352 -21.83820811 -36.39701352]\n",
      " [-36.39701352 -36.39701352 -21.83820811]]\n",
      "0.5\n",
      "0.5\n",
      "0.5\n",
      "\n",
      "Forces between Na4 and Na12:\n",
      "[[-73.72000412   0.           0.        ]\n",
      " [ -7.15796334  -1.43159267  -0.        ]\n",
      " [ -7.15796334  -0.          -1.43159267]]\n",
      "0.4330127018922193\n",
      "0.4330127018922193\n",
      "0.4330127018922193\n",
      "\n",
      "Forces between Na4 and Cl13:\n",
      "[[-21.83820811  36.39701352  36.39701352]\n",
      " [ 37.00882551 -51.81235571 -37.00882551]\n",
      " [ 37.00882551 -37.00882551 -51.81235571]]\n",
      "0.4330127018922193\n",
      "0.4330127018922193\n",
      "0.4330127018922193\n",
      "\n",
      "Forces between Na4 and Cl15:\n",
      "[[-21.83820811  36.39701352 -36.39701352]\n",
      " [ 37.00882551 -51.81235571  37.00882551]\n",
      " [-36.39701352  36.39701352 -21.83820811]]\n",
      "0.4330127018922193\n",
      "0.4330127018922193\n",
      "0.4330127018922193\n",
      "\n",
      "Forces between Cl5 and Na6:\n",
      "[[-21.83820811 -36.39701352  36.39701352]\n",
      " [-36.39701352 -21.83820811  36.39701352]\n",
      " [ 37.00882551  37.00882551 -51.81235571]]\n",
      "0.5\n",
      "0.5\n",
      "0.5\n",
      "\n",
      "Forces between Cl5 and Cl7:\n",
      "[[  -2.20750193   -0.          -11.03750966]\n",
      " [  -0.           -2.20750193  -11.03750966]\n",
      " [   0.            0.         -113.67552733]]\n",
      "0.4330127018922193\n",
      "0.4330127018922193\n",
      "0.4330127018922193\n",
      "\n",
      "Forces between Cl5 and Na8:\n",
      "[[-51.81235571 -37.00882551  37.00882551]\n",
      " [-37.00882551 -51.81235571  37.00882551]\n",
      " [ 36.39701352  36.39701352 -21.83820811]]\n",
      "0.4330127018922193\n",
      "0.4330127018922193\n",
      "0.4330127018922193\n",
      "\n",
      "Forces between Cl5 and Na10:\n",
      "[[-51.81235571 -37.00882551 -37.00882551]\n",
      " [-37.00882551 -51.81235571 -37.00882551]\n",
      " [-37.00882551 -37.00882551 -51.81235571]]\n",
      "0.4330127018922193\n",
      "0.4330127018922193\n",
      "0.4330127018922193\n",
      "\n",
      "Forces between Cl5 and Na12:\n",
      "[[-51.81235571  37.00882551  37.00882551]\n",
      " [ 36.39701352 -21.83820811 -36.39701352]\n",
      " [ 36.39701352 -36.39701352 -21.83820811]]\n",
      "0.5\n",
      "0.5\n",
      "0.5\n",
      "\n",
      "Forces between Cl5 and Cl13:\n",
      "[[-113.67552733    0.            0.        ]\n",
      " [ -11.03750966   -2.20750193   -0.        ]\n",
      " [ -11.03750966   -0.           -2.20750193]]\n",
      "0.4330127018922193\n",
      "0.4330127018922193\n",
      "0.4330127018922193\n",
      "\n",
      "Forces between Cl5 and Na14:\n",
      "[[-51.81235571  37.00882551 -37.00882551]\n",
      " [ 36.39701352 -21.83820811  36.39701352]\n",
      " [-37.00882551  37.00882551 -51.81235571]]\n",
      "0.4330127018922193\n",
      "0.4330127018922193\n",
      "0.4330127018922193\n",
      "\n",
      "Forces between Na6 and Cl7:\n",
      "[[-51.81235571 -37.00882551 -37.00882551]\n",
      " [-37.00882551 -51.81235571 -37.00882551]\n",
      " [-37.00882551 -37.00882551 -51.81235571]]\n",
      "0.4330127018922193\n",
      "0.4330127018922193\n",
      "0.4330127018922193\n",
      "\n",
      "Forces between Na6 and Cl9:\n",
      "[[-21.83820811 -36.39701352 -36.39701352]\n",
      " [-36.39701352 -21.83820811 -36.39701352]\n",
      " [-36.39701352 -36.39701352 -21.83820811]]\n",
      "0.4330127018922193\n",
      "0.4330127018922193\n",
      "0.4330127018922193\n",
      "\n",
      "Forces between Na6 and Cl11:\n",
      "[[-21.83820811 -36.39701352  36.39701352]\n",
      " [-36.39701352 -21.83820811  36.39701352]\n",
      " [ 37.00882551  37.00882551 -51.81235571]]\n",
      "0.4330127018922193\n",
      "0.4330127018922193\n",
      "0.4330127018922193\n",
      "\n",
      "Forces between Na6 and Cl13:\n",
      "[[-21.83820811  36.39701352 -36.39701352]\n",
      " [ 37.00882551 -51.81235571  37.00882551]\n",
      " [-36.39701352  36.39701352 -21.83820811]]\n",
      "0.5\n",
      "0.5\n",
      "0.5\n",
      "\n",
      "Forces between Na6 and Na14:\n",
      "[[-73.72000412   0.           0.        ]\n",
      " [ -7.15796334  -1.43159267  -0.        ]\n",
      " [ -7.15796334  -0.          -1.43159267]]\n",
      "0.4330127018922193\n",
      "0.4330127018922193\n",
      "0.4330127018922193\n",
      "\n",
      "Forces between Na6 and Cl15:\n",
      "[[-21.83820811  36.39701352  36.39701352]\n",
      " [ 37.00882551 -51.81235571 -37.00882551]\n",
      " [ 37.00882551 -37.00882551 -51.81235571]]\n",
      "0.4330127018922193\n",
      "0.4330127018922193\n",
      "0.4330127018922193\n",
      "\n",
      "Forces between Cl7 and Na8:\n",
      "[[-51.81235571 -37.00882551 -37.00882551]\n",
      " [-37.00882551 -51.81235571 -37.00882551]\n",
      " [-37.00882551 -37.00882551 -51.81235571]]\n",
      "0.4330127018922193\n",
      "0.4330127018922193\n",
      "0.4330127018922193\n",
      "\n",
      "Forces between Cl7 and Na10:\n",
      "[[-51.81235571 -37.00882551  37.00882551]\n",
      " [-37.00882551 -51.81235571  37.00882551]\n",
      " [ 36.39701352  36.39701352 -21.83820811]]\n",
      "0.4330127018922193\n",
      "0.4330127018922193\n",
      "0.4330127018922193\n",
      "\n",
      "Forces between Cl7 and Na12:\n",
      "[[-51.81235571  37.00882551 -37.00882551]\n",
      " [ 36.39701352 -21.83820811  36.39701352]\n",
      " [-37.00882551  37.00882551 -51.81235571]]\n",
      "0.4330127018922193\n",
      "0.4330127018922193\n",
      "0.4330127018922193\n",
      "\n",
      "Forces between Cl7 and Na14:\n",
      "[[-51.81235571  37.00882551  37.00882551]\n",
      " [ 36.39701352 -21.83820811 -36.39701352]\n",
      " [ 36.39701352 -36.39701352 -21.83820811]]\n",
      "0.5\n",
      "0.5\n",
      "0.5\n",
      "\n",
      "Forces between Cl7 and Cl15:\n",
      "[[-113.67552733    0.            0.        ]\n",
      " [ -11.03750966   -2.20750193   -0.        ]\n",
      " [ -11.03750966   -0.           -2.20750193]]\n",
      "0.4330127018922193\n",
      "0.4330127018922193\n",
      "0.4330127018922193\n",
      "\n",
      "Forces between Na8 and Cl9:\n",
      "[[-51.81235571 -37.00882551 -37.00882551]\n",
      " [-37.00882551 -51.81235571 -37.00882551]\n",
      " [-37.00882551 -37.00882551 -51.81235571]]\n",
      "0.5\n",
      "0.5\n",
      "0.5\n",
      "\n",
      "Forces between Na8 and Na10:\n",
      "[[ -1.43159267  -0.          -7.15796334]\n",
      " [ -0.          -1.43159267  -7.15796334]\n",
      " [  0.           0.         -73.72000412]]\n",
      "0.4330127018922193\n",
      "0.4330127018922193\n",
      "0.4330127018922193\n",
      "\n",
      "Forces between Na8 and Cl11:\n",
      "[[-51.81235571 -37.00882551  37.00882551]\n",
      " [-37.00882551 -51.81235571  37.00882551]\n",
      " [ 36.39701352  36.39701352 -21.83820811]]\n",
      "0.5\n",
      "0.5\n",
      "0.5\n",
      "\n",
      "Forces between Na8 and Na12:\n",
      "[[ -1.43159267  -7.15796334  -0.        ]\n",
      " [  0.         -73.72000412   0.        ]\n",
      " [ -0.          -7.15796334  -1.43159267]]\n",
      "0.4330127018922193\n",
      "0.4330127018922193\n",
      "0.4330127018922193\n",
      "\n",
      "Forces between Na8 and Cl13:\n",
      "[[-51.81235571  37.00882551 -37.00882551]\n",
      " [ 36.39701352 -21.83820811  36.39701352]\n",
      " [-37.00882551  37.00882551 -51.81235571]]\n",
      "0.4330127018922193\n",
      "0.4330127018922193\n",
      "0.4330127018922193\n",
      "\n",
      "Forces between Na8 and Cl15:\n",
      "[[-51.81235571  37.00882551  37.00882551]\n",
      " [ 36.39701352 -21.83820811 -36.39701352]\n",
      " [ 36.39701352 -36.39701352 -21.83820811]]\n",
      "0.4330127018922193\n",
      "0.4330127018922193\n",
      "0.4330127018922193\n",
      "\n",
      "Forces between Cl9 and Na10:\n",
      "[[-21.83820811 -36.39701352  36.39701352]\n",
      " [-36.39701352 -21.83820811  36.39701352]\n",
      " [ 37.00882551  37.00882551 -51.81235571]]\n",
      "0.5\n",
      "0.5\n",
      "0.5\n",
      "\n",
      "Forces between Cl9 and Cl11:\n",
      "[[  -2.20750193   -0.          -11.03750966]\n",
      " [  -0.           -2.20750193  -11.03750966]\n",
      " [   0.            0.         -113.67552733]]\n",
      "0.4330127018922193\n",
      "0.4330127018922193\n",
      "0.4330127018922193\n",
      "\n",
      "Forces between Cl9 and Na12:\n",
      "[[-21.83820811  36.39701352 -36.39701352]\n",
      " [ 37.00882551 -51.81235571  37.00882551]\n",
      " [-36.39701352  36.39701352 -21.83820811]]\n",
      "0.5\n",
      "0.5\n",
      "0.5\n",
      "\n",
      "Forces between Cl9 and Cl13:\n",
      "[[  -2.20750193  -11.03750966   -0.        ]\n",
      " [   0.         -113.67552733    0.        ]\n",
      " [  -0.          -11.03750966   -2.20750193]]\n",
      "0.4330127018922193\n",
      "0.4330127018922193\n",
      "0.4330127018922193\n",
      "\n",
      "Forces between Cl9 and Na14:\n",
      "[[-21.83820811  36.39701352  36.39701352]\n",
      " [ 37.00882551 -51.81235571 -37.00882551]\n",
      " [ 37.00882551 -37.00882551 -51.81235571]]\n",
      "0.4330127018922193\n",
      "0.4330127018922193\n",
      "0.4330127018922193\n",
      "\n",
      "Forces between Na10 and Cl11:\n",
      "[[-51.81235571 -37.00882551 -37.00882551]\n",
      " [-37.00882551 -51.81235571 -37.00882551]\n",
      " [-37.00882551 -37.00882551 -51.81235571]]\n",
      "0.4330127018922193\n",
      "0.4330127018922193\n",
      "0.4330127018922193\n",
      "\n",
      "Forces between Na10 and Cl13:\n",
      "[[-51.81235571  37.00882551  37.00882551]\n",
      " [ 36.39701352 -21.83820811 -36.39701352]\n",
      " [ 36.39701352 -36.39701352 -21.83820811]]\n",
      "0.5\n",
      "0.5\n",
      "0.5\n",
      "\n",
      "Forces between Na10 and Na14:\n",
      "[[ -1.43159267  -7.15796334  -0.        ]\n",
      " [  0.         -73.72000412   0.        ]\n",
      " [ -0.          -7.15796334  -1.43159267]]\n",
      "0.4330127018922193\n",
      "0.4330127018922193\n",
      "0.4330127018922193\n",
      "\n",
      "Forces between Na10 and Cl15:\n",
      "[[-51.81235571  37.00882551 -37.00882551]\n",
      " [ 36.39701352 -21.83820811  36.39701352]\n",
      " [-37.00882551  37.00882551 -51.81235571]]\n",
      "0.4330127018922193\n",
      "0.4330127018922193\n",
      "0.4330127018922193\n",
      "\n",
      "Forces between Cl11 and Na12:\n",
      "[[-21.83820811  36.39701352  36.39701352]\n",
      " [ 37.00882551 -51.81235571 -37.00882551]\n",
      " [ 37.00882551 -37.00882551 -51.81235571]]\n",
      "0.4330127018922193\n",
      "0.4330127018922193\n",
      "0.4330127018922193\n",
      "\n",
      "Forces between Cl11 and Na14:\n",
      "[[-21.83820811  36.39701352 -36.39701352]\n",
      " [ 37.00882551 -51.81235571  37.00882551]\n",
      " [-36.39701352  36.39701352 -21.83820811]]\n",
      "0.5\n",
      "0.5\n",
      "0.5\n",
      "\n",
      "Forces between Cl11 and Cl15:\n",
      "[[  -2.20750193  -11.03750966   -0.        ]\n",
      " [   0.         -113.67552733    0.        ]\n",
      " [  -0.          -11.03750966   -2.20750193]]\n",
      "0.4330127018922193\n",
      "0.4330127018922193\n",
      "0.4330127018922193\n",
      "\n",
      "Forces between Na12 and Cl13:\n",
      "[[-51.81235571 -37.00882551 -37.00882551]\n",
      " [-37.00882551 -51.81235571 -37.00882551]\n",
      " [-37.00882551 -37.00882551 -51.81235571]]\n",
      "0.5\n",
      "0.5\n",
      "0.5\n",
      "\n",
      "Forces between Na12 and Na14:\n",
      "[[ -1.43159267  -0.          -7.15796334]\n",
      " [ -0.          -1.43159267  -7.15796334]\n",
      " [  0.           0.         -73.72000412]]\n",
      "0.4330127018922193\n",
      "0.4330127018922193\n",
      "0.4330127018922193\n",
      "\n",
      "Forces between Na12 and Cl15:\n",
      "[[-51.81235571 -37.00882551  37.00882551]\n",
      " [-37.00882551 -51.81235571  37.00882551]\n",
      " [ 36.39701352  36.39701352 -21.83820811]]\n",
      "0.4330127018922193\n",
      "0.4330127018922193\n",
      "0.4330127018922193\n",
      "\n",
      "Forces between Cl13 and Na14:\n",
      "[[-21.83820811 -36.39701352  36.39701352]\n",
      " [-36.39701352 -21.83820811  36.39701352]\n",
      " [ 37.00882551  37.00882551 -51.81235571]]\n",
      "0.5\n",
      "0.5\n",
      "0.5\n",
      "\n",
      "Forces between Cl13 and Cl15:\n",
      "[[  -2.20750193   -0.          -11.03750966]\n",
      " [  -0.           -2.20750193  -11.03750966]\n",
      " [   0.            0.         -113.67552733]]\n",
      "0.4330127018922193\n",
      "0.4330127018922193\n",
      "0.4330127018922193\n",
      "\n",
      "Forces between Na14 and Cl15:\n",
      "[[-51.81235571 -37.00882551 -37.00882551]\n",
      " [-37.00882551 -51.81235571 -37.00882551]\n",
      " [-37.00882551 -37.00882551 -51.81235571]]\n"
     ]
    }
   ],
   "source": [
    "from dynmat import UnitCell, fractional_to_cartesian_transform, periodic_distance_mat, periodic_distance, is_nearest_neighbors\n",
    "from itertools import combinations\n",
    "import numpy as np\n",
    "from numpy.typing import NDArray\n",
    "from mendeleev import element\n",
    "\n",
    "\n",
    "def calculate_force_constant(atom1_label: str, atom2_label: str, reference_frequency: float = 1.0) -> float:\n",
    "    \"\"\"\n",
    "    Calculate force constant based on atomic masses and reference frequency.\n",
    "    \"\"\"\n",
    "    mass1 = element(atom1_label).mass\n",
    "    mass2 = element(atom2_label).mass\n",
    "    reduced_mass = (mass1 * mass2) / (mass1 + mass2)\n",
    "    angular_frequency = 2 * np.pi * reference_frequency\n",
    "    return reduced_mass * angular_frequency**2\n",
    "\n",
    "\n",
    "def calculate_periodic_direction(point1: NDArray, point2: NDArray) -> NDArray:\n",
    "    \"\"\"\n",
    "    Calculate unit vector considering periodic boundaries.\n",
    "    \"\"\"\n",
    "    delta = point2 - point1\n",
    "    delta = delta - np.round(delta)\n",
    "    norm = np.linalg.norm(delta)\n",
    "    return delta / norm if norm > 0 else np.zeros_like(delta)\n",
    "\n",
    "\n",
    "def get_force(positions: NDArray, \n",
    "             labels: NDArray,\n",
    "             atom1: NDArray, \n",
    "             atom2: NDArray, \n",
    "             displacement: NDArray,\n",
    "             distance_matrix: NDArray,\n",
    "             reference_frequency: float = 1.0) -> NDArray:\n",
    "    \"\"\"\n",
    "    Calculate force between two atoms with mass-dependent force constant.\n",
    "    \"\"\"\n",
    "    # Find atom indices and labels\n",
    "    atom1_idx = np.where(np.all(positions == atom1, axis=1))[0][0]\n",
    "    atom2_idx = np.where(np.all(positions == atom2, axis=1))[0][0]\n",
    "    atom1_label = labels[atom1_idx][0]\n",
    "    atom2_label = labels[atom2_idx][0]\n",
    "    \n",
    "    # Get equilibrium distance\n",
    "    equilibrium_dist = distance_matrix[atom1_idx, atom2_idx]\n",
    "    \n",
    "    # Calculate mass-dependent force constant\n",
    "    k = calculate_force_constant(atom1_label, atom2_label, reference_frequency)\n",
    "    \n",
    "    # Calculate new distance and direction after displacement\n",
    "    displaced_pos = atom2 + displacement\n",
    "    new_dist = periodic_distance(atom1, displaced_pos)\n",
    "    direction = calculate_periodic_direction(atom1, displaced_pos)\n",
    "    equi = np.ravel(equilibrium_dist)[0]\n",
    "    # Calculate force\n",
    "    # print( equi)\n",
    "    return (k * (equi - np.array(new_dist)))/(2*equi**1.7) * direction\n",
    "\n",
    "\n",
    "def get_forces_3x3(positions: NDArray,\n",
    "                  labels: NDArray,\n",
    "                  atom1: NDArray,\n",
    "                  atom2: NDArray,\n",
    "                  displacements: NDArray,\n",
    "                  distance_matrix: NDArray,\n",
    "                  reference_frequency: float = 1.0) -> NDArray:\n",
    "    \"\"\"\n",
    "    Calculate forces for a set of displacements.\n",
    "    \"\"\"\n",
    "    force_xyz = []\n",
    "    for d in displacements:\n",
    "        force = get_force(positions, labels, atom1, atom2, d, distance_matrix, reference_frequency)\n",
    "        force_xyz.append(force)\n",
    "    return np.array(force_xyz)\n",
    "\n",
    "\n",
    "# Example usage:\n",
    "if __name__ == \"__main__\":\n",
    "    # Create unit cell\n",
    "    u = UnitCell(\n",
    "        lattice_lengths=(1, 1, 1),\n",
    "        lattice_angles=(90, 90, 90),\n",
    "        atomic_basis=[\n",
    "            (\"Na\", 0.0, 0.0, 0.0),\n",
    "            (\"Cl\", 0.5, 0.5, 0.5)\n",
    "        ]\n",
    "    ).make_supercell((2, 2, 2))\n",
    "\n",
    "    # Get lattice parameters and transformation matrix\n",
    "    lat, ang = (u.a, u.b, u.c), (u.alpha, u.beta, u.gamma)\n",
    "    T = fractional_to_cartesian_transform(lat, ang)\n",
    "\n",
    "    # Extract positions and labels\n",
    "    pos = np.array(u.atomic_basis)[:, 1:].astype(\"float64\")\n",
    "    labels = np.array(u.atomic_basis)[:, :1]\n",
    "\n",
    "    # Calculate distance matrix\n",
    "    dist = periodic_distance_mat(pos)\n",
    "\n",
    "    # Define displacements\n",
    "    dxdydz = np.array([\n",
    "        [0.1, 0.0, 0.0],\n",
    "        [0.0, 0.1, 0.0],\n",
    "        [0.0, 0.0, 0.1],\n",
    "    ])\n",
    "\n",
    "    fc_matrix = np.zeros(\n",
    "        (3 * len(labels), 3 * len(labels))\n",
    "    )\n",
    "\n",
    "    # Calculate forces for nearest neighbors\n",
    "    for i, (label1, atom1) in enumerate(zip(labels, pos)):\n",
    "        for j, (label2, atom2) in enumerate(zip(labels, pos)):\n",
    "            if i != j and i < j:\n",
    "                is_nearest = is_nearest_neighbors(i, j, dist, order=0)\n",
    "                is_next_nearest = is_nearest_neighbors(i, j, dist, order=1)\n",
    "                if is_next_nearest or is_nearest:\n",
    "                    forces = get_forces_3x3(\n",
    "                        positions=pos,\n",
    "                        labels=labels,\n",
    "                        atom1=atom1,\n",
    "                        atom2=atom2,\n",
    "                        displacements=dxdydz,\n",
    "                        distance_matrix=dist,\n",
    "                        reference_frequency=1.0  # Adjust this value as needed\n",
    "                    )\n",
    "                    fc_matrix[i*3:i*3+3, j*3:j*3+3] = forces\n",
    "                    # print(f\"\\nForces between {label1[0]}{i} and {label2[0]}{j}:\")\n",
    "                    # print(forces)"
   ]
  },
  {
   "cell_type": "code",
   "execution_count": 7,
   "id": "1e74c503-20c0-4b97-815d-64f1f85bd1ce",
   "metadata": {},
   "outputs": [],
   "source": [
    "def plot_force_constant_matrix(fc_matrix, atomic_labels):\n",
    "    \"\"\"\n",
    "    Plot force constant matrix with 3x3 block grid lines and atom labels.\n",
    "    \n",
    "    Parameters:\n",
    "        fc_matrix: The force constant matrix (3N x 3N)\n",
    "        atomic_labels: List of atomic symbols for each atom\n",
    "    \"\"\"\n",
    "    n_atoms = len(atomic_labels)\n",
    "    n = 3 * n_atoms\n",
    "    \n",
    "    # Create figure with appropriate size\n",
    "    fig, ax = plt.subplots(figsize=(12, 10))\n",
    "    \n",
    "    # Plot the matrix\n",
    "    vmax = 0.8*np.max(np.abs(fc_matrix))\n",
    "    im = ax.imshow(fc_matrix, cmap='PuOr', aspect='equal', vmin=-vmax, vmax=vmax)\n",
    "    plt.colorbar(im)\n",
    "    \n",
    "    # Add grid lines to separate 3x3 blocks\n",
    "    for i in range(n_atoms):\n",
    "        ax.axhline(y=i*3 - 0.5, color='black', linewidth=2)\n",
    "        ax.axvline(x=i*3 - 0.5, color='black', linewidth=2)\n",
    "    \n",
    "    # Create labels for each coordinate of each atom\n",
    "    coord_labels = []\n",
    "    for atom in atomic_labels:\n",
    "        coord_labels.extend([f\"{atom}-x\", f\"{atom}-y\", f\"{atom}-z\"])\n",
    "    \n",
    "    # Set ticks at the center of each coordinate\n",
    "    ticks = np.arange(n)\n",
    "    \n",
    "    # Add labels\n",
    "    ax.set_xticks(ticks)\n",
    "    ax.set_yticks(ticks)\n",
    "    ax.set_xticklabels(coord_labels, rotation=45, ha='right')\n",
    "    ax.set_yticklabels(coord_labels)\n",
    "    \n",
    "    # Add title\n",
    "    plt.title('Force Constant Matrix')\n",
    "    \n",
    "    # Adjust layout to prevent label clipping\n",
    "    plt.tight_layout()\n",
    "    \n",
    "    return fig, ax"
   ]
  },
  {
   "cell_type": "code",
   "execution_count": 1,
   "id": "bb42b361-2865-4c2c-8b6b-95d527585b86",
   "metadata": {},
   "outputs": [
    {
     "name": "stderr",
     "output_type": "stream",
     "text": [
      "100%|██████████| 8/8 [00:31<00:00,  3.89s/it]\n"
     ]
    }
   ],
   "source": [
    "from dynmat import UnitCell, fractional_to_cartesian_transform, periodic_distance_mat, is_nearest_neighbors, get_forces_3x3\n",
    "from tqdm import tqdm\n",
    "import numpy as np\n",
    "u = UnitCell(\n",
    "        lattice_lengths=(5, 5, 5),\n",
    "        lattice_angles=(90, 90, 90),\n",
    "        basis=[\n",
    "            (\"Na\", (0.0, 0.0, 0.0)),\n",
    "            (\"Cl\", (0.5, 0.5, 0.0))\n",
    "        ]\n",
    ").supercell((2, 2, 1))\n",
    "\n",
    "# Get lattice parameters and transformation matrix\n",
    "lat, ang = (u.a, u.b, u.c), (u.alpha, u.beta, u.gamma)\n",
    "T = fractional_to_cartesian_transform(lat, ang)\n",
    "\n",
    "# Extract positions and labels\n",
    "pos = u.positions\n",
    "labels = u.labels\n",
    "\n",
    "# Calculate distance matrix\n",
    "dist = periodic_distance_mat(pos)\n",
    "\n",
    "# Define displacements\n",
    "dxdydz = np.array([\n",
    "    [0.1, 0.0, 0.0],\n",
    "    [0.0, 0.1, 0.0],\n",
    "    [0.0, 0.0, 0.0],\n",
    "])*1e-6\n",
    "\n",
    "fc_matrix = np.zeros(\n",
    "    (3 * len(labels), 3 * len(labels))\n",
    ")\n",
    "\n",
    "# Calculate forces for nearest neighbors\n",
    "for i, (label1, atom1) in enumerate(zip(tqdm(labels), pos)):\n",
    "    for j, (label2, atom2) in enumerate(zip(labels, pos)):\n",
    "        if i != j:\n",
    "            is_nearest = is_nearest_neighbors(i, j, dist, order=0)\n",
    "            is_next_nearest = is_nearest_neighbors(i, j, dist, order=1)\n",
    "            if is_nearest or is_next_nearest:\n",
    "                forces = get_forces_3x3(\n",
    "                    positions=pos,\n",
    "                    labels=labels,\n",
    "                    atom1=atom1,\n",
    "                    atom2=atom2,\n",
    "                    displacements=dxdydz,\n",
    "                    distance_matrix=dist,\n",
    "                    reference_frequency=1.0  # Adjust this value as needed\n",
    "                )\n",
    "                fc_matrix[i*3:i*3+3, i*3:i*3+3] -= forces\n",
    "                fc_matrix[i*3:i*3+3, j*3:j*3+3] = forces"
   ]
  },
  {
   "cell_type": "code",
   "execution_count": 5,
   "id": "05483738-53f3-4728-a0a5-874f65dfd278",
   "metadata": {},
   "outputs": [
    {
     "data": {
      "text/plain": [
       "array([[0.  , 0.  , 0.  ],\n",
       "       [0.25, 0.25, 0.5 ],\n",
       "       [0.  , 0.5 , 0.  ],\n",
       "       [0.25, 0.75, 0.5 ],\n",
       "       [0.5 , 0.  , 0.  ],\n",
       "       [0.75, 0.25, 0.5 ],\n",
       "       [0.5 , 0.5 , 0.  ],\n",
       "       [0.75, 0.75, 0.5 ]])"
      ]
     },
     "execution_count": 5,
     "metadata": {},
     "output_type": "execute_result"
    }
   ],
   "source": [
    "u = UnitCell(\n",
    "        lattice_lengths=(5, 5, 5),\n",
    "        lattice_angles=(90, 90, 90),\n",
    "        basis=[\n",
    "            (\"Na\", (0.0, 0.0, 0.0)),\n",
    "            (\"Cl\", (0.5, 0.5, 0.5))\n",
    "        ]\n",
    ").supercell((2, 2, 1))\n",
    "u.positions"
   ]
  },
  {
   "cell_type": "code",
   "execution_count": 9,
   "id": "2d8a35ab-e283-460f-b2b6-17283602f86e",
   "metadata": {},
   "outputs": [
    {
     "data": {
      "text/plain": [
       "(<Figure size 1200x1000 with 2 Axes>,\n",
       " <Axes: title={'center': 'Force Constant Matrix'}>)"
      ]
     },
     "execution_count": 9,
     "metadata": {},
     "output_type": "execute_result"
    },
    {
     "data": {
      "image/png": "[encoded data removed]",
      "text/plain": [
       "<Figure size 1200x1000 with 2 Axes>"
      ]
     },
     "metadata": {},
     "output_type": "display_data"
    }
   ],
   "source": [
    "import matplotlib.pyplot as plt\n",
    "\n",
    "plot_force_constant_matrix(fc_matrix,u.labels)"
   ]
  },
  {
   "cell_type": "code",
   "execution_count": 38,
   "id": "609ace1f-a7fb-4e2c-a27e-bc8ee501aa29",
   "metadata": {},
   "outputs": [
    {
     "data": {
      "text/plain": [
       "<matplotlib.quiver.Quiver at 0x3251f5f90>"
      ]
     },
     "execution_count": 38,
     "metadata": {},
     "output_type": "execute_result"
    },
    {
     "data": {
      "image/png": "[encoded data removed]",
      "text/plain": [
       "<Figure size 640x480 with 1 Axes>"
      ]
     },
     "metadata": {},
     "output_type": "display_data"
    }
   ],
   "source": [
    "i = 3\n",
    "fx = fc_matrix[i, ::3]\n",
    "fy = fc_matrix[i, 1::3]\n",
    "x = [at[1] for at in u.atomic_basis]\n",
    "y = [at[2] for at in u.atomic_basis]\n",
    "\n",
    "plt.quiver(x,y,fx,fy)\n",
    "# plt.colorbar()"
   ]
  },
  {
   "cell_type": "code",
   "execution_count": 39,
   "id": "65323e73-bf85-4b98-b00b-1aadea97244f",
   "metadata": {},
   "outputs": [
    {
     "data": {
      "text/plain": [
       "<matplotlib.image.AxesImage at 0x3248c8d10>"
      ]
     },
     "execution_count": 39,
     "metadata": {},
     "output_type": "execute_result"
    },
    {
     "data": {
      "image/png": "[encoded data removed]",
      "text/plain": [
       "<Figure size 640x480 with 1 Axes>"
      ]
     },
     "metadata": {},
     "output_type": "display_data"
    }
   ],
   "source": [
    "plt.imshow(fc_matrix - fc_matrix.T)"
   ]
  },
  {
   "cell_type": "code",
   "execution_count": 43,
   "id": "dd3f3b8f-87d7-49d9-b8cf-f8e903f330c4",
   "metadata": {},
   "outputs": [
    {
     "data": {
      "text/plain": [
       "8.0"
      ]
     },
     "execution_count": 43,
     "metadata": {},
     "output_type": "execute_result"
    }
   ],
   "source": [
    "len(values)/3"
   ]
  },
  {
   "cell_type": "code",
   "execution_count": 77,
   "id": "3abddf63-28e7-463d-8b4f-a02f91de305b",
   "metadata": {},
   "outputs": [
    {
     "data": {
      "text/plain": [
       "[<matplotlib.lines.Line2D at 0x32499dc50>]"
      ]
     },
     "execution_count": 77,
     "metadata": {},
     "output_type": "execute_result"
    },
    {
     "data": {
      "image/png": "[encoded data removed]",
      "text/plain": [
       "<Figure size 640x480 with 1 Axes>"
      ]
     },
     "metadata": {},
     "output_type": "display_data"
    }
   ],
   "source": [
    "import numpy as np\n",
    "\n",
    "values, eigen = np.linalg.eigh(fc_matrix+fc_matrix.T)\n",
    "\n",
    "\n",
    "plt.plot(np.sort(values),'.-')"
   ]
  },
  {
   "cell_type": "code",
   "execution_count": 98,
   "id": "1a92b4f5-565d-4428-a04c-2ad9d1dff20a",
   "metadata": {},
   "outputs": [],
   "source": [
    "values, eigen = np.linalg.eigh(fc_matrix+fc_matrix.T)\n",
    "\n",
    "#check it all works:\n",
    "# ((eigen@np.diag(values)@eigen.T) - (fc_matrix+fc_matrix.T))[0]\n",
    "\n",
    "ivalues = [0 if (l<1e-10) else 1/l for l in values]\n",
    "\n",
    "covariancesss = (eigen@np.diag(ivalues)@eigen.T)"
   ]
  },
  {
   "cell_type": "code",
   "execution_count": null,
   "id": "708aa67e-c49b-49d0-a864-2406ead7eae3",
   "metadata": {},
   "outputs": [],
   "source": [
    "import c"
   ]
  },
  {
   "cell_type": "code",
   "execution_count": 101,
   "id": "0cf4003a-d299-4b45-b828-f4694dc42fcb",
   "metadata": {},
   "outputs": [
    {
     "data": {
      "text/plain": [
       "<matplotlib.image.AxesImage at 0x324571810>"
      ]
     },
     "execution_count": 101,
     "metadata": {},
     "output_type": "execute_result"
    },
    {
     "data": {
      "image/png": "[encoded data removed]",
      "text/plain": [
       "<Figure size 640x480 with 1 Axes>"
      ]
     },
     "metadata": {},
     "output_type": "display_data"
    }
   ],
   "source": [
    "clim = np.amax(covariancesss)\n",
    "\n",
    "plt.imshow(covariancesss, clim=(-clim,clim), cmap=\"PuOr_r\")"
   ]
  },
  {
   "cell_type": "code",
   "execution_count": 1,
   "id": "b455c49a-6c62-4ebd-8280-965229935ec7",
   "metadata": {},
   "outputs": [
    {
     "ename": "NameError",
     "evalue": "name 'covariancesss' is not defined",
     "output_type": "error",
     "traceback": [
      "\u001b[0;31m---------------------------------------------------------------------------\u001b[0m",
      "\u001b[0;31mNameError\u001b[0m                                 Traceback (most recent call last)",
      "Cell \u001b[0;32mIn[1], line 1\u001b[0m\n\u001b[0;32m----> 1\u001b[0m covariancesss\n",
      "\u001b[0;31mNameError\u001b[0m: name 'covariancesss' is not defined"
     ]
    }
   ],
   "source": [
    "covariancesss"
   ]
  },
  {
   "cell_type": "code",
   "execution_count": 5,
   "id": "2bd31e3a-c2d5-4097-b9a7-04b144d10c2e",
   "metadata": {},
   "outputs": [
    {
     "data": {
      "text/plain": [
       "[('Na', 0.0, 0.0, 0.0),\n",
       " ('Cl', 0.25, 0.25, 0.5),\n",
       " ('Na', 0.0, 0.5, 0.0),\n",
       " ('Cl', 0.25, 0.75, 0.5),\n",
       " ('Na', 0.5, 0.0, 0.0),\n",
       " ('Cl', 0.75, 0.25, 0.5),\n",
       " ('Na', 0.5, 0.5, 0.0),\n",
       " ('Cl', 0.75, 0.75, 0.5)]"
      ]
     },
     "execution_count": 5,
     "metadata": {},
     "output_type": "execute_result"
    }
   ],
   "source": [
    "u.atomic_basis"
   ]
  },
  {
   "cell_type": "code",
   "execution_count": null,
   "id": "519d2b75-ccf3-4aa8-bad9-e27ce332b887",
   "metadata": {},
   "outputs": [],
   "source": [
    "is_nearest_neighbor([0.0, 0.0, 0.0],[0.25, 0.25, 0.5]"
   ]
  },
  {
   "cell_type": "code",
   "execution_count": 3,
   "id": "9e047d5c-be75-4b62-a9dc-8c4fcd2269fa",
   "metadata": {
    "scrolled": true
   },
   "outputs": [
    {
     "name": "stdout",
     "output_type": "stream",
     "text": [
      "a\n"
     ]
    }
   ],
   "source": [
    "from dynmat import UnitCell, fractional_to_cartesian_transform, periodic_distance_mat, periodic_distance, is_nearest_neighbor\n",
    "from itertools import combinations\n",
    "import matplotlib.pyplot as plt\n",
    "import numpy as np\n",
    "from numpy.typing import NDArray\n",
    "\n",
    "u = UnitCell(\n",
    "    lattice_lengths = (1, 1, 1),\n",
    "    lattice_angles = (90, 90, 90),\n",
    "    atomic_basis = [\n",
    "        (\"Na\", 0.0, 0.0, 0.0),(\"Cl\", 0.5, 0.5, 0.5)\n",
    "    ]\n",
    ").make_supercell((5, 5, 0))\n",
    "\n",
    "lat, ang = (u.a, u.b, u.c),(u.alpha, u.beta, u.gamma)\n",
    "T = fractional_to_cartesian_transform(lat, ang)\n",
    "\n",
    "pos = np.array(u.atomic_basis)[:,1:].astype(\"float64\")\n",
    "label = np.array(u.atomic_basis)[:,:1].astype(\"str\")\n",
    "\n",
    "dist = periodic_distance_mat(pos)\n",
    "\n",
    "def get_force(pos, atom1, atom2, d):\n",
    "    atom1 = np.array(atom1)\n",
    "    atom2 = np.array(atom2)\n",
    "    atom1_id = np.where(np.all(pos == atom1, axis=1))[0]\n",
    "    atom2_id = np.where(np.all(pos == atom2, axis=1))[0]\n",
    "    equilibrium_dist = dist[atom1_id, atom2_id]\n",
    "    new_dist = periodic_distance(atom1, atom2 + d)\n",
    "    return (np.ravel(equilibrium_dist)[0] - np.array(new_dist)) * periodic_direction_vector(atom1, atom2 + d)\n",
    "\n",
    "\n",
    "def get_forces_3x3(positions, label1, atom1, label2, atom2, dxdydz):\n",
    "    force_xyz = []\n",
    "    for d in dxdydz:\n",
    "        force_x, force_y, force_z = get_force(positions, label1, atom1, label2, atom2, d)\n",
    "        force_xyz.append([force_x, force_y, force_z])\n",
    "    force_xyz = np.array(force_xyz)\n",
    "\n",
    "    return force_xyz\n",
    "\n",
    "dxdydz = [\n",
    "    [0.1, 0.0, 0.0],\n",
    "    [0.0, 0.1, 0.0],\n",
    "    [0.0, 0.0, 0.0],\n",
    "]\n",
    "\n",
    "for label1, atom1 in zip(label, pos):\n",
    "    for label2, atom2 in zip(label, pos):\n",
    "        if not np.all(atom1 == atom2):\n",
    "            atom1_id = np.where(np.all(pos == atom1, axis=1))[0]\n",
    "            atom2_id = np.where(np.all(pos == atom2, axis=1))[0]\n",
    "            if is_nearest_neighbor(atom1_id,atom2_id, dist):\n",
    "                print(\"b\")\n",
    "                x = get_forces_3x3(pos, label1, atom1, label2, atom2, dxdydz)\n",
    "                print(x)\n",
    "print(\"a\")"
   ]
  },
  {
   "cell_type": "code",
   "execution_count": 2,
   "id": "af82e0a4-def4-4793-9bdd-18f8cd8376a8",
   "metadata": {},
   "outputs": [],
   "source": [
    "def periodic_direction_vector(p1, p2):\n",
    "    \"\"\"\n",
    "    Computes the normalized direction vector between two points in a periodic unit cube [0,1].\n",
    "    Returns the shortest unit vector from p1 to p2 considering periodic boundaries.\n",
    "    \n",
    "    Parameters:\n",
    "        p1 (array-like): Coordinates of the first point [x, y, z]\n",
    "        p2 (array-like): Coordinates of the second point [x, y, z]\n",
    "        \n",
    "    Returns:\n",
    "        ndarray: The normalized direction vector from p1 to p2 considering periodic boundaries\n",
    "    \"\"\"\n",
    "    # Convert inputs to numpy arrays and ensure they're in [0,1]\n",
    "    p1 = np.array(p1, dtype=float) % 1\n",
    "    p2 = np.array(p2, dtype=float) % 1\n",
    "    \n",
    "    # Calculate direct difference\n",
    "    direct_diff = p2 - p1\n",
    "    \n",
    "    # For each component, check if going around the other way is shorter\n",
    "    periodic_diff = np.where(direct_diff > 0.5, direct_diff - 1, \n",
    "                         np.where(direct_diff < -0.5, direct_diff + 1, direct_diff))\n",
    "    \n",
    "    # Normalize the vector\n",
    "    norm = np.sqrt(np.sum(periodic_diff * periodic_diff))\n",
    "    if norm > 0:\n",
    "        periodic_diff = periodic_diff / norm\n",
    "    \n",
    "    return periodic_diff"
   ]
  },
  {
   "cell_type": "code",
   "execution_count": 34,
   "id": "045eb8e4-5351-4e19-83e1-d54062d3d178",
   "metadata": {},
   "outputs": [
    {
     "data": {
      "text/plain": [
       "0.17320508075688776"
      ]
     },
     "execution_count": 34,
     "metadata": {},
     "output_type": "execute_result"
    }
   ],
   "source": [
    "np.linalg.norm([0.1, 0.1, 0.1])"
   ]
  },
  {
   "cell_type": "code",
   "execution_count": 44,
   "id": "81eabeca-0f4d-4102-b86b-c80f5057a3f6",
   "metadata": {},
   "outputs": [
    {
     "data": {
      "text/plain": [
       "array([-0.57735027, -0.57735027, -0.57735027])"
      ]
     },
     "execution_count": 44,
     "metadata": {},
     "output_type": "execute_result"
    }
   ],
   "source": [
    "v = periodic_direction_vector(\n",
    "    [0.1, 0.1, 0.1],\n",
    "    [0.9, 0.9, 0.9]\n",
    ")\n",
    "\n",
    "v"
   ]
  },
  {
   "cell_type": "code",
   "execution_count": 20,
   "id": "9db77973-38b1-4fb7-a3d9-2f70e31875bd",
   "metadata": {},
   "outputs": [
    {
     "name": "stdout",
     "output_type": "stream",
     "text": [
      "Distance between atoms 0 and 1: 0.01414213562373095\n"
     ]
    }
   ],
   "source": [
    "from numpy import abs, array, minimum, sqrt, sum, zeros, meshgrid, arange\n",
    "\n",
    "def periodic_distance(positions_with_ids):\n",
    "    \"\"\"\n",
    "    Computes the periodic distance between all pairs of points in a unit cube.\n",
    "    \n",
    "    Parameters:\n",
    "        positions_with_ids: List of [id, x, y, z] arrays or array of shape (N, 4)\n",
    "        where the first column contains IDs and the remaining columns are coordinates\n",
    "    \n",
    "    Returns:\n",
    "        distances: Array of shape (N_points, N_points) containing pairwise distances\n",
    "        where distances[i,j] gives distance between atom with ID positions_with_ids[i,0]\n",
    "        and atom with ID positions_with_ids[j,0]\n",
    "    \"\"\"\n",
    "    # Convert input to numpy array if not already\n",
    "    pos_array = array(positions_with_ids)\n",
    "    \n",
    "    # Extract IDs and coordinates\n",
    "    ids = pos_array[:,0]\n",
    "    coords = pos_array[:,1:]\n",
    "    \n",
    "    # Apply periodic boundary conditions to coordinates\n",
    "    coords = coords % 1\n",
    "    \n",
    "    # Reshape coordinates for broadcasting\n",
    "    coords1 = coords.reshape(-1, 1, 3)  # Shape: (N, 1, 3)\n",
    "    coords2 = coords.reshape(1, -1, 3)  # Shape: (1, N, 3)\n",
    "    \n",
    "    # Calculate periodic distances\n",
    "    delta = abs(coords2 - coords1)  # Shape: (N, N, 3)\n",
    "    delta = minimum(delta, 1 - delta)  # Wrap around boundary\n",
    "    distances = sqrt(sum(delta**2, axis=2))  # Shape: (N, N)\n",
    "    \n",
    "    return ids, distances\n",
    "\n",
    "\n",
    "\n",
    "# Example positions: each row is [id, x, y, z]\n",
    "positions = array([\n",
    "    [0, 0.1, 0.1, 0.1],\n",
    "    [1, 0.2, 0.2, 0.2],\n",
    "    [2, 0.9, 0.9, 0.9]\n",
    "])\n",
    "\n",
    "ids, distances = periodic_distance(np.array(u.atomic_basis)[:,:])\n",
    "\n",
    "# To get distance between atoms with specific IDs:\n",
    "id1, id2 = 0, 1\n",
    "idx1 = list(ids).index(id1)\n",
    "idx2 = list(ids).index(id2)\n",
    "dist = distances[idx1, idx2]\n",
    "print(f\"Distance between atoms {id1} and {id2}: {dist}\")"
   ]
  },
  {
   "cell_type": "code",
   "execution_count": 47,
   "id": "fa7ce451-5af1-4d37-a18b-141dba2003f5",
   "metadata": {},
   "outputs": [
    {
     "data": {
      "text/plain": [
       "25000000"
      ]
     },
     "execution_count": 47,
     "metadata": {},
     "output_type": "execute_result"
    }
   ],
   "source": [
    "u."
   ]
  },
  {
   "cell_type": "code",
   "execution_count": 50,
   "id": "90188d6b-a7df-4e12-803f-2577cbccfff5",
   "metadata": {},
   "outputs": [
    {
     "data": {
      "text/plain": [
       "25000000"
      ]
     },
     "execution_count": 50,
     "metadata": {},
     "output_type": "execute_result"
    }
   ],
   "source": [
    "distances.shape[0]**2"
   ]
  },
  {
   "cell_type": "code",
   "execution_count": 45,
   "id": "2a03c0e9-8ec3-4b45-800a-75012ea944e5",
   "metadata": {},
   "outputs": [
    {
     "data": {
      "text/plain": [
       "6250000"
      ]
     },
     "execution_count": 45,
     "metadata": {},
     "output_type": "execute_result"
    }
   ],
   "source": [
    "(50*50)**2"
   ]
  },
  {
   "cell_type": "code",
   "execution_count": 43,
   "id": "75a3a831-9228-4df1-a7ae-51f66ef74b86",
   "metadata": {
    "scrolled": true
   },
   "outputs": [
    {
     "data": {
      "text/plain": [
       "(array([0, 0, 0, 0, 0]), array([1220, 1221, 1222, 1320, 1322]))"
      ]
     },
     "execution_count": 43,
     "metadata": {},
     "output_type": "execute_result"
    }
   ],
   "source": [
    "np.where([distances[1221,:] < 0.01414214])"
   ]
  },
  {
   "cell_type": "code",
   "execution_count": 5,
   "id": "ce4ffb95-1e43-461d-82aa-afb4928107ba",
   "metadata": {},
   "outputs": [],
   "source": [
    "\n",
    "i = 0\n",
    "for atom1, x1, y1, z1 in u.atomic_basis:\n",
    "    for atom2, x2, y2, z2 in u.atomic_basis:\n",
    "        p = periodic_distance(\n",
    "            [x1, y1, z1],\n",
    "            [x2, y2, z2],\n",
    "        )\n",
    "        break"
   ]
  },
  {
   "cell_type": "code",
   "execution_count": 6,
   "id": "06397ff5-9f86-486d-a587-4c150c258751",
   "metadata": {},
   "outputs": [
    {
     "data": {
      "text/plain": [
       "[('Na', 0.0, 0.0, 0.0),\n",
       " ('Cl', 0.05, 0.05, 0.0),\n",
       " ('Na', 0.0, 0.1, 0.0),\n",
       " ('Cl', 0.05, 0.15, 0.0),\n",
       " ('Na', 0.0, 0.2, 0.0),\n",
       " ('Cl', 0.05, 0.25, 0.0),\n",
       " ('Na', 0.0, 0.3, 0.0),\n",
       " ('Cl', 0.05, 0.35, 0.0),\n",
       " ('Na', 0.0, 0.4, 0.0),\n",
       " ('Cl', 0.05, 0.45, 0.0),\n",
       " ('Na', 0.0, 0.5, 0.0),\n",
       " ('Cl', 0.05, 0.55, 0.0),\n",
       " ('Na', 0.0, 0.6, 0.0),\n",
       " ('Cl', 0.05, 0.65, 0.0),\n",
       " ('Na', 0.0, 0.7, 0.0),\n",
       " ('Cl', 0.05, 0.75, 0.0),\n",
       " ('Na', 0.0, 0.8, 0.0),\n",
       " ('Cl', 0.05, 0.85, 0.0),\n",
       " ('Na', 0.0, 0.9, 0.0),\n",
       " ('Cl', 0.05, 0.95, 0.0),\n",
       " ('Na', 0.1, 0.0, 0.0),\n",
       " ('Cl', 0.15, 0.05, 0.0),\n",
       " ('Na', 0.1, 0.1, 0.0),\n",
       " ('Cl', 0.15, 0.15, 0.0),\n",
       " ('Na', 0.1, 0.2, 0.0),\n",
       " ('Cl', 0.15, 0.25, 0.0),\n",
       " ('Na', 0.1, 0.3, 0.0),\n",
       " ('Cl', 0.15, 0.35, 0.0),\n",
       " ('Na', 0.1, 0.4, 0.0),\n",
       " ('Cl', 0.15, 0.45, 0.0),\n",
       " ('Na', 0.1, 0.5, 0.0),\n",
       " ('Cl', 0.15, 0.55, 0.0),\n",
       " ('Na', 0.1, 0.6, 0.0),\n",
       " ('Cl', 0.15, 0.65, 0.0),\n",
       " ('Na', 0.1, 0.7, 0.0),\n",
       " ('Cl', 0.15, 0.75, 0.0),\n",
       " ('Na', 0.1, 0.8, 0.0),\n",
       " ('Cl', 0.15, 0.85, 0.0),\n",
       " ('Na', 0.1, 0.9, 0.0),\n",
       " ('Cl', 0.15, 0.95, 0.0),\n",
       " ('Na', 0.2, 0.0, 0.0),\n",
       " ('Cl', 0.25, 0.05, 0.0),\n",
       " ('Na', 0.2, 0.1, 0.0),\n",
       " ('Cl', 0.25, 0.15, 0.0),\n",
       " ('Na', 0.2, 0.2, 0.0),\n",
       " ('Cl', 0.25, 0.25, 0.0),\n",
       " ('Na', 0.2, 0.3, 0.0),\n",
       " ('Cl', 0.25, 0.35, 0.0),\n",
       " ('Na', 0.2, 0.4, 0.0),\n",
       " ('Cl', 0.25, 0.45, 0.0),\n",
       " ('Na', 0.2, 0.5, 0.0),\n",
       " ('Cl', 0.25, 0.55, 0.0),\n",
       " ('Na', 0.2, 0.6, 0.0),\n",
       " ('Cl', 0.25, 0.65, 0.0),\n",
       " ('Na', 0.2, 0.7, 0.0),\n",
       " ('Cl', 0.25, 0.75, 0.0),\n",
       " ('Na', 0.2, 0.8, 0.0),\n",
       " ('Cl', 0.25, 0.85, 0.0),\n",
       " ('Na', 0.2, 0.9, 0.0),\n",
       " ('Cl', 0.25, 0.95, 0.0),\n",
       " ('Na', 0.3, 0.0, 0.0),\n",
       " ('Cl', 0.35, 0.05, 0.0),\n",
       " ('Na', 0.3, 0.1, 0.0),\n",
       " ('Cl', 0.35, 0.15, 0.0),\n",
       " ('Na', 0.3, 0.2, 0.0),\n",
       " ('Cl', 0.35, 0.25, 0.0),\n",
       " ('Na', 0.3, 0.3, 0.0),\n",
       " ('Cl', 0.35, 0.35, 0.0),\n",
       " ('Na', 0.3, 0.4, 0.0),\n",
       " ('Cl', 0.35, 0.45, 0.0),\n",
       " ('Na', 0.3, 0.5, 0.0),\n",
       " ('Cl', 0.35, 0.55, 0.0),\n",
       " ('Na', 0.3, 0.6, 0.0),\n",
       " ('Cl', 0.35, 0.65, 0.0),\n",
       " ('Na', 0.3, 0.7, 0.0),\n",
       " ('Cl', 0.35, 0.75, 0.0),\n",
       " ('Na', 0.3, 0.8, 0.0),\n",
       " ('Cl', 0.35, 0.85, 0.0),\n",
       " ('Na', 0.3, 0.9, 0.0),\n",
       " ('Cl', 0.35, 0.95, 0.0),\n",
       " ('Na', 0.4, 0.0, 0.0),\n",
       " ('Cl', 0.45, 0.05, 0.0),\n",
       " ('Na', 0.4, 0.1, 0.0),\n",
       " ('Cl', 0.45, 0.15, 0.0),\n",
       " ('Na', 0.4, 0.2, 0.0),\n",
       " ('Cl', 0.45, 0.25, 0.0),\n",
       " ('Na', 0.4, 0.3, 0.0),\n",
       " ('Cl', 0.45, 0.35, 0.0),\n",
       " ('Na', 0.4, 0.4, 0.0),\n",
       " ('Cl', 0.45, 0.45, 0.0),\n",
       " ('Na', 0.4, 0.5, 0.0),\n",
       " ('Cl', 0.45, 0.55, 0.0),\n",
       " ('Na', 0.4, 0.6, 0.0),\n",
       " ('Cl', 0.45, 0.65, 0.0),\n",
       " ('Na', 0.4, 0.7, 0.0),\n",
       " ('Cl', 0.45, 0.75, 0.0),\n",
       " ('Na', 0.4, 0.8, 0.0),\n",
       " ('Cl', 0.45, 0.85, 0.0),\n",
       " ('Na', 0.4, 0.9, 0.0),\n",
       " ('Cl', 0.45, 0.95, 0.0),\n",
       " ('Na', 0.5, 0.0, 0.0),\n",
       " ('Cl', 0.55, 0.05, 0.0),\n",
       " ('Na', 0.5, 0.1, 0.0),\n",
       " ('Cl', 0.55, 0.15, 0.0),\n",
       " ('Na', 0.5, 0.2, 0.0),\n",
       " ('Cl', 0.55, 0.25, 0.0),\n",
       " ('Na', 0.5, 0.3, 0.0),\n",
       " ('Cl', 0.55, 0.35, 0.0),\n",
       " ('Na', 0.5, 0.4, 0.0),\n",
       " ('Cl', 0.55, 0.45, 0.0),\n",
       " ('Na', 0.5, 0.5, 0.0),\n",
       " ('Cl', 0.55, 0.55, 0.0),\n",
       " ('Na', 0.5, 0.6, 0.0),\n",
       " ('Cl', 0.55, 0.65, 0.0),\n",
       " ('Na', 0.5, 0.7, 0.0),\n",
       " ('Cl', 0.55, 0.75, 0.0),\n",
       " ('Na', 0.5, 0.8, 0.0),\n",
       " ('Cl', 0.55, 0.85, 0.0),\n",
       " ('Na', 0.5, 0.9, 0.0),\n",
       " ('Cl', 0.55, 0.95, 0.0),\n",
       " ('Na', 0.6, 0.0, 0.0),\n",
       " ('Cl', 0.65, 0.05, 0.0),\n",
       " ('Na', 0.6, 0.1, 0.0),\n",
       " ('Cl', 0.65, 0.15, 0.0),\n",
       " ('Na', 0.6, 0.2, 0.0),\n",
       " ('Cl', 0.65, 0.25, 0.0),\n",
       " ('Na', 0.6, 0.3, 0.0),\n",
       " ('Cl', 0.65, 0.35, 0.0),\n",
       " ('Na', 0.6, 0.4, 0.0),\n",
       " ('Cl', 0.65, 0.45, 0.0),\n",
       " ('Na', 0.6, 0.5, 0.0),\n",
       " ('Cl', 0.65, 0.55, 0.0),\n",
       " ('Na', 0.6, 0.6, 0.0),\n",
       " ('Cl', 0.65, 0.65, 0.0),\n",
       " ('Na', 0.6, 0.7, 0.0),\n",
       " ('Cl', 0.65, 0.75, 0.0),\n",
       " ('Na', 0.6, 0.8, 0.0),\n",
       " ('Cl', 0.65, 0.85, 0.0),\n",
       " ('Na', 0.6, 0.9, 0.0),\n",
       " ('Cl', 0.65, 0.95, 0.0),\n",
       " ('Na', 0.7, 0.0, 0.0),\n",
       " ('Cl', 0.75, 0.05, 0.0),\n",
       " ('Na', 0.7, 0.1, 0.0),\n",
       " ('Cl', 0.75, 0.15, 0.0),\n",
       " ('Na', 0.7, 0.2, 0.0),\n",
       " ('Cl', 0.75, 0.25, 0.0),\n",
       " ('Na', 0.7, 0.3, 0.0),\n",
       " ('Cl', 0.75, 0.35, 0.0),\n",
       " ('Na', 0.7, 0.4, 0.0),\n",
       " ('Cl', 0.75, 0.45, 0.0),\n",
       " ('Na', 0.7, 0.5, 0.0),\n",
       " ('Cl', 0.75, 0.55, 0.0),\n",
       " ('Na', 0.7, 0.6, 0.0),\n",
       " ('Cl', 0.75, 0.65, 0.0),\n",
       " ('Na', 0.7, 0.7, 0.0),\n",
       " ('Cl', 0.75, 0.75, 0.0),\n",
       " ('Na', 0.7, 0.8, 0.0),\n",
       " ('Cl', 0.75, 0.85, 0.0),\n",
       " ('Na', 0.7, 0.9, 0.0),\n",
       " ('Cl', 0.75, 0.95, 0.0),\n",
       " ('Na', 0.8, 0.0, 0.0),\n",
       " ('Cl', 0.85, 0.05, 0.0),\n",
       " ('Na', 0.8, 0.1, 0.0),\n",
       " ('Cl', 0.85, 0.15, 0.0),\n",
       " ('Na', 0.8, 0.2, 0.0),\n",
       " ('Cl', 0.85, 0.25, 0.0),\n",
       " ('Na', 0.8, 0.3, 0.0),\n",
       " ('Cl', 0.85, 0.35, 0.0),\n",
       " ('Na', 0.8, 0.4, 0.0),\n",
       " ('Cl', 0.85, 0.45, 0.0),\n",
       " ('Na', 0.8, 0.5, 0.0),\n",
       " ('Cl', 0.85, 0.55, 0.0),\n",
       " ('Na', 0.8, 0.6, 0.0),\n",
       " ('Cl', 0.85, 0.65, 0.0),\n",
       " ('Na', 0.8, 0.7, 0.0),\n",
       " ('Cl', 0.85, 0.75, 0.0),\n",
       " ('Na', 0.8, 0.8, 0.0),\n",
       " ('Cl', 0.85, 0.85, 0.0),\n",
       " ('Na', 0.8, 0.9, 0.0),\n",
       " ('Cl', 0.85, 0.95, 0.0),\n",
       " ('Na', 0.9, 0.0, 0.0),\n",
       " ('Cl', 0.95, 0.05, 0.0),\n",
       " ('Na', 0.9, 0.1, 0.0),\n",
       " ('Cl', 0.95, 0.15, 0.0),\n",
       " ('Na', 0.9, 0.2, 0.0),\n",
       " ('Cl', 0.95, 0.25, 0.0),\n",
       " ('Na', 0.9, 0.3, 0.0),\n",
       " ('Cl', 0.95, 0.35, 0.0),\n",
       " ('Na', 0.9, 0.4, 0.0),\n",
       " ('Cl', 0.95, 0.45, 0.0),\n",
       " ('Na', 0.9, 0.5, 0.0),\n",
       " ('Cl', 0.95, 0.55, 0.0),\n",
       " ('Na', 0.9, 0.6, 0.0),\n",
       " ('Cl', 0.95, 0.65, 0.0),\n",
       " ('Na', 0.9, 0.7, 0.0),\n",
       " ('Cl', 0.95, 0.75, 0.0),\n",
       " ('Na', 0.9, 0.8, 0.0),\n",
       " ('Cl', 0.95, 0.85, 0.0),\n",
       " ('Na', 0.9, 0.9, 0.0),\n",
       " ('Cl', 0.95, 0.95, 0.0)]"
      ]
     },
     "execution_count": 6,
     "metadata": {},
     "output_type": "execute_result"
    }
   ],
   "source": [
    "u.atomic_basis"
   ]
  },
  {
   "cell_type": "code",
   "execution_count": 7,
   "id": "38b268c7-3559-4761-a13d-419b84343254",
   "metadata": {},
   "outputs": [
    {
     "data": {
      "text/plain": [
       "(array([5., 0., 0.]),\n",
       " array([-2.5       ,  4.33012702,  0.        ]),\n",
       " array([3.06161700e-16, 5.30287619e-16, 5.00000000e+00]))"
      ]
     },
     "execution_count": 7,
     "metadata": {},
     "output_type": "execute_result"
    }
   ],
   "source": [
    "alpha = np.deg2rad(90)\n",
    "beta = np.deg2rad(90)\n",
    "gamma = np.deg2rad(120)\n",
    "T = fractional_to_cartesian_transform(\n",
    "    (5, 5, 5),\n",
    "    (alpha, beta, gamma)\n",
    ")\n",
    "\n",
    "\n",
    "T @ (1, 0, 0), T @ (0, 1, 0), T @ (0, 0, 1)"
   ]
  },
  {
   "cell_type": "code",
   "execution_count": 8,
   "id": "2744fe89-6132-4819-b96c-98e5f27002af",
   "metadata": {},
   "outputs": [
    {
     "data": {
      "text/plain": [
       "<matplotlib.collections.PathCollection at 0x11429bd50>"
      ]
     },
     "execution_count": 8,
     "metadata": {},
     "output_type": "execute_result"
    },
    {
     "data": {
      "image/png": "[encoded data removed]",
      "text/plain": [
       "<Figure size 640x480 with 1 Axes>"
      ]
     },
     "metadata": {},
     "output_type": "display_data"
    }
   ],
   "source": [
    "alpha = np.deg2rad(90)\n",
    "beta = np.deg2rad(60)\n",
    "gamma = np.deg2rad(90)\n",
    "T = fractional_to_cartesian_transform(\n",
    "    (5, 5, 5),\n",
    "    (alpha, beta, alpha)\n",
    ").T\n",
    "\n",
    "atom_x, atom_y, _ = np.array([T @ (x, y, 0)   for _, x, y, _ in u.atomic_basis]).T\n",
    "plt.scatter(atom_x, atom_y)"
   ]
  },
  {
   "cell_type": "code",
   "execution_count": 9,
   "id": "123b771b-f6d2-4222-8ecb-e15b1497e937",
   "metadata": {
    "scrolled": true
   },
   "outputs": [
    {
     "data": {
      "text/plain": [
       "Text(0.5, 0.92, 'Unit Cell with Angles 40°, 40°, 40°')"
      ]
     },
     "execution_count": 9,
     "metadata": {},
     "output_type": "execute_result"
    },
    {
     "data": {
      "image/png": "[encoded data removed]",
      "text/plain": [
       "<Figure size 800x800 with 1 Axes>"
      ]
     },
     "metadata": {},
     "output_type": "display_data"
    }
   ],
   "source": [
    "import numpy as np\n",
    "import matplotlib.pyplot as plt\n",
    "from mpl_toolkits.mplot3d.art3d import Poly3DCollection\n",
    "\n",
    "# Define parameters for the unit cell at angles 40°, 40°, 40°\n",
    "a, b, c = 1.0, 1.0, 1.0\n",
    "lat_a, lat_b, lat_c = 1.0, 1.0, 1.0\n",
    "alpha, beta, gamma = np.deg2rad(40), np.deg2rad(40), np.deg2rad(40)\n",
    "\n",
    "# Compute the transformation matrix\n",
    "def compute_transformation_matrix(a, b, c, alpha, beta, gamma):\n",
    "    cot_alpha = 1 / np.tan(alpha)\n",
    "    cot_beta = 1 / np.tan(beta)\n",
    "    cot_gamma = 1 / np.tan(gamma)\n",
    "\n",
    "    T = np.array([\n",
    "        [a, b * np.cos(gamma), c * np.cos(beta)],\n",
    "        [0, b * np.sin(gamma), c * (cot_alpha - cot_beta * cot_gamma)],\n",
    "        [0, 0, c * np.sqrt(\n",
    "            1 - np.cos(beta)**2 - (\n",
    "                (cot_alpha - cot_beta * cot_gamma)\n",
    "            )**2\n",
    "        )]\n",
    "    ])\n",
    "    return T\n",
    "\n",
    "T = compute_transformation_matrix(a, b, c, alpha, beta, gamma)\n",
    "\n",
    "# Define the corners of the unit cell in fractional coordinates\n",
    "fractional_coords = np.array([\n",
    "    [0, 0, 0], [1, 0, 0], [0, 1, 0], [0, 0, 1],\n",
    "    [1, 1, 0], [1, 0, 1], [0, 1, 1], [1, 1, 1]\n",
    "])\n",
    "\n",
    "# Transform to real coordinates\n",
    "real_coords = fractional_coords @ T.T\n",
    "\n",
    "# Define the faces of the unit cell\n",
    "faces = [\n",
    "    [0, 1, 4, 2], [0, 2, 6, 3], [0, 1, 5, 3],\n",
    "    [7, 6, 2, 4], [7, 5, 1, 4], [7, 6, 3, 5]\n",
    "]\n",
    "\n",
    "# Visualize the unit cell\n",
    "fig = plt.figure(figsize=(8, 8))\n",
    "ax = fig.add_subplot(111, projection='3d')\n",
    "\n",
    "# Draw the faces\n",
    "for face in faces:\n",
    "    poly = Poly3DCollection([real_coords[face]], alpha=0.5, edgecolor='r')\n",
    "    ax.add_collection3d(poly)\n",
    "\n",
    "# Set labels and limits\n",
    "ax.set_xlabel('X')\n",
    "ax.set_ylabel('Y')\n",
    "ax.set_zlabel('Z')\n",
    "ax.set_xlim([real_coords[:, 0].min() - 0.5, real_coords[:, 0].max() + 0.5])\n",
    "ax.set_ylim([real_coords[:, 1].min() - 0.5, real_coords[:, 1].max() + 0.5])\n",
    "ax.set_zlim([real_coords[:, 2].min() - 0.5, real_coords[:, 2].max() + 0.5])\n",
    "ax.set_title(\"Unit Cell with Angles 40°, 40°, 40°\")\n"
   ]
  },
  {
   "cell_type": "code",
   "execution_count": 10,
   "id": "9f1130b8-50e6-443d-b73f-2e08d2189842",
   "metadata": {},
   "outputs": [
    {
     "data": {
      "text/plain": [
       "array([[1.        , 0.76604444, 0.76604444],\n",
       "       [0.        , 0.64278761, 1.        ],\n",
       "       [0.        , 0.        , 0.76604444]])"
      ]
     },
     "execution_count": 10,
     "metadata": {},
     "output_type": "execute_result"
    }
   ],
   "source": [
    "cot = lambda x: 1/np.tan(x)\n",
    "csc = lambda x: 1/np.sin(x)\n",
    "transformation = np.array([\n",
    "    [lat_a, lat_b * np.cos(gamma), lat_c * np.cos(beta)],\n",
    "    [0, lat_b * np.sin(gamma), lat_c * np.sin(beta) * csc(alpha)],\n",
    "    [0, 0, lat_c * np.sin(beta) * cot(alpha)]\n",
    "])\n",
    "\n",
    "\n",
    "transformation"
   ]
  },
  {
   "cell_type": "code",
   "execution_count": 11,
   "id": "4867e99e-1549-44b2-9aca-abf956e7d1ad",
   "metadata": {},
   "outputs": [
    {
     "data": {
      "text/plain": [
       "array([[ 1.        ,  0.76604444,  0.76604444],\n",
       "       [ 0.        ,  0.64278761, -0.22852303],\n",
       "       [ 0.        ,  0.        ,  0.60079375]])"
      ]
     },
     "execution_count": 11,
     "metadata": {},
     "output_type": "execute_result"
    }
   ],
   "source": [
    "T"
   ]
  }
 ],
 "metadata": {
  "kernelspec": {
   "display_name": "Python 3 (ipykernel)",
   "language": "python",
   "name": "python3"
  },
  "language_info": {
   "codemirror_mode": {
    "name": "ipython",
    "version": 3
   },
   "file_extension": ".py",
   "mimetype": "text/x-python",
   "name": "python",
   "nbconvert_exporter": "python",
   "pygments_lexer": "ipython3",
   "version": "3.11.7"
  }
 },
 "nbformat": 4,
 "nbformat_minor": 5
}
